{
  "nbformat": 4,
  "nbformat_minor": 0,
  "metadata": {
    "colab": {
      "provenance": [],
      "authorship_tag": "ABX9TyPuVrGi3nPhnrRsMPTjkd5U",
      "include_colab_link": true
    },
    "kernelspec": {
      "name": "python3",
      "display_name": "Python 3"
    },
    "language_info": {
      "name": "python"
    }
  },
  "cells": [
    {
      "cell_type": "markdown",
      "metadata": {
        "id": "view-in-github",
        "colab_type": "text"
      },
      "source": [
        "<a href=\"https://colab.research.google.com/github/conormalone/StatsPerformForum23/blob/main/ProForum23Working.ipynb\" target=\"_parent\"><img src=\"https://colab.research.google.com/assets/colab-badge.svg\" alt=\"Open In Colab\"/></a>"
      ]
    },
    {
      "cell_type": "code",
      "execution_count": 1,
      "metadata": {
        "colab": {
          "base_uri": "https://localhost:8080/"
        },
        "id": "92XMoway7HS4",
        "outputId": "9510208b-4155-4bcf-aebc-66007d282b18"
      },
      "outputs": [
        {
          "output_type": "stream",
          "name": "stdout",
          "text": [
            "Mounted at /content/drive\n"
          ]
        }
      ],
      "source": [
        "import pandas as pd\n",
        "import json\n",
        "import os\n",
        "import numpy as np\n",
        "from google.colab import drive\n",
        "drive.mount('/content/drive')\n",
        "pd.options.display.max_columns = 999"
      ]
    },
    {
      "cell_type": "code",
      "source": [
        "base_path = 'drive/My Drive/Colab Notebooks/pass_prediction_outputs'\n",
        "game_id = 2215871\n",
        "file_name = f'{game_id}.json'\n",
        "\n",
        "# load data from file\n",
        "with open(f'{base_path}/{file_name}') as f:\n",
        "    data=json.loads(f.read())\n",
        "    \n",
        "f.close()\n",
        " \n",
        "# transform data into pandas dataframe\n",
        "events = pd.json_normalize(data['liveData']['event'])\n",
        "\n",
        "# make a copy of it for later usage\n",
        "events_all = events.copy()"
      ],
      "metadata": {
        "id": "7vpPyxHt7O0-"
      },
      "execution_count": null,
      "outputs": []
    }
  ]
}